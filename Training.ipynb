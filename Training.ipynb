{
 "cells": [
  {
   "cell_type": "code",
   "execution_count": 1,
   "metadata": {},
   "outputs": [],
   "source": [
    "import numpy as np\n",
    "import pandas as pd\n",
    "import matplotlib.pyplot as plt\n",
    "import seaborn as sns\n",
    "from sklearn.model_selection import train_test_split\n",
    "from sklearn.utils import shuffle\n",
    "from sklearn.preprocessing import Imputer ,StandardScaler , LabelEncoder, OneHotEncoder\n",
    "from sklearn.ensemble import RandomForestRegressor\n",
    "from sklearn.model_selection  import GridSearchCV\n",
    "from sklearn.feature_extraction.text import CountVectorizer\n",
    "import operator\n",
    "import random\n",
    "from scipy.stats import pearsonr\n",
    "from sklearn.linear_model import LinearRegression\n",
    "from sklearn.decomposition import PCA\n",
    "from sklearn import linear_model as lm \n",
    "from sklearn.tree import DecisionTreeClassifier as dt\n",
    "import pickle\n",
    "\n",
    "%matplotlib inline"
   ]
  },
  {
   "cell_type": "code",
   "execution_count": 2,
   "metadata": {},
   "outputs": [],
   "source": [
    "df = pd.read_excel ('Base Hackaton.xlsx')"
   ]
  },
  {
   "cell_type": "code",
   "execution_count": 3,
   "metadata": {
    "scrolled": true
   },
   "outputs": [
    {
     "data": {
      "text/plain": [
       "array(['numero_sinistre', 'Date_entree_RGA', 'Immatriculation', 'VIN',\n",
       "       'Marque', 'Modele', 'DMC', 'Piece', 'Statut',\n",
       "       'Date_Reception_devis', 'Prix_Piece',\n",
       "       'TOT reparation( pièce+ main œuvr', 'Nombre_heure_reparation',\n",
       "       'TYPE_SINISTRE', 'annee_survenance', 'reglement_tot',\n",
       "       'reserve_tot', 'reglement_mat', 'reglement_crp', 'reserve_mat',\n",
       "       'reserve_crp', 'NUM_POLICE', 'nbre_sin_tot (mat+crp)',\n",
       "       'nbre_sin_mat', 'nbre_sin_crp', 'MOIS', 'ANNEE', 'AGENCE',\n",
       "       'CODE_PRODUIT', 'PRODUIT', 'TYPE_PACK', 'TYPE_POLICE',\n",
       "       'DATE_EFFET_POLICE', 'DATE_EFFET', 'DATE_ECHEANCE',\n",
       "       'TACITE_RECONDUCTION', 'FRACTIONNEMENT', 'ETAT_POLICE',\n",
       "       'DATE_RESILIATION', 'TYPE_CLIENT', 'SOUS_TYPE_CLIENT',\n",
       "       'TYPE_IDENTIFIANT', 'SEXE', 'ETAT_CIVILE', 'PROFESSION',\n",
       "       'SECTEUR_ACTIVITE', 'VIP', 'SITUATION_ASSURE', 'TEL',\n",
       "       'DATE_NAISSANCE', 'ADRESSE', 'GOUVERNORAT', 'VILLE',\n",
       "       'CODE_POSTAL_VILLE', 'NUM_PERMIS_SOUSC', 'DATE_OBTENT_PERMIS',\n",
       "       'PUISSANCE', 'ENERGIE', 'TYPE_IMMATRICULATION', 'USAGEE',\n",
       "       'CLASSE_BM', 'COEFFICIENT', 'DATE_M_CIRC', 'NBR_PLACE', 'CYLINDRE',\n",
       "       'POID_VIDE', 'PP_TAC', 'CHARGE_UTILE', 'VALEUR_NEUF',\n",
       "       'VALEUR_VENALE', 'PRIME_ANNUELLE', 'CONVENTION', 'Nom_agence',\n",
       "       'USAGE_DU_VEHICULE', 'flag_Fraude', 'type_dossier_afin'],\n",
       "      dtype=object)"
      ]
     },
     "execution_count": 3,
     "metadata": {},
     "output_type": "execute_result"
    }
   ],
   "source": [
    "df.columns.values"
   ]
  },
  {
   "cell_type": "markdown",
   "metadata": {},
   "source": [
    "#### On sépare les features en numeric_features et text_features"
   ]
  },
  {
   "cell_type": "code",
   "execution_count": 4,
   "metadata": {},
   "outputs": [],
   "source": [
    "numeric_features=df._get_numeric_data().columns.values.tolist()"
   ]
  },
  {
   "cell_type": "code",
   "execution_count": 5,
   "metadata": {},
   "outputs": [],
   "source": [
    "text_features=df.columns.values.tolist()\n",
    "text_features=[i for i in text_features if i not in numeric_features]\n",
    "text_features.remove(\"flag_Fraude\")"
   ]
  },
  {
   "cell_type": "code",
   "execution_count": 6,
   "metadata": {},
   "outputs": [],
   "source": [
    "categorical_features = text_features\n",
    "categorical_features.remove(\"numero_sinistre\")"
   ]
  },
  {
   "cell_type": "markdown",
   "metadata": {},
   "source": [
    "#### Supression des valeurs nulles pour numeric_features"
   ]
  },
  {
   "cell_type": "code",
   "execution_count": 7,
   "metadata": {
    "scrolled": true
   },
   "outputs": [
    {
     "data": {
      "text/plain": [
       "['Prix_Piece',\n",
       " 'TOT reparation( pièce+ main œuvr',\n",
       " 'Nombre_heure_reparation',\n",
       " 'annee_survenance',\n",
       " 'reglement_tot',\n",
       " 'reserve_tot',\n",
       " 'reglement_mat',\n",
       " 'reglement_crp',\n",
       " 'reserve_mat',\n",
       " 'reserve_crp',\n",
       " 'nbre_sin_tot (mat+crp)',\n",
       " 'nbre_sin_mat',\n",
       " 'nbre_sin_crp',\n",
       " 'MOIS',\n",
       " 'ANNEE',\n",
       " 'AGENCE',\n",
       " 'CODE_PRODUIT',\n",
       " 'TEL',\n",
       " 'CODE_POSTAL_VILLE',\n",
       " 'PUISSANCE',\n",
       " 'USAGEE',\n",
       " 'CLASSE_BM',\n",
       " 'COEFFICIENT',\n",
       " 'NBR_PLACE',\n",
       " 'CYLINDRE',\n",
       " 'POID_VIDE',\n",
       " 'PP_TAC',\n",
       " 'CHARGE_UTILE',\n",
       " 'VALEUR_NEUF',\n",
       " 'VALEUR_VENALE',\n",
       " 'PRIME_ANNUELLE']"
      ]
     },
     "execution_count": 7,
     "metadata": {},
     "output_type": "execute_result"
    }
   ],
   "source": [
    "numeric_features"
   ]
  },
  {
   "cell_type": "code",
   "execution_count": 8,
   "metadata": {
    "scrolled": true
   },
   "outputs": [
    {
     "name": "stdout",
     "output_type": "stream",
     "text": [
      "                                  zero count  null count\n",
      "Prix_Piece                                 0        5390\n",
      "TOT reparation( pièce+ main œuvr           0           0\n",
      "Nombre_heure_reparation                    6           0\n",
      "annee_survenance                           0           0\n",
      "reglement_tot                           3316           0\n",
      "reserve_tot                            13458           0\n",
      "reglement_mat                           3316           0\n",
      "reglement_crp                              0       14578\n",
      "reserve_mat                            13458           0\n",
      "reserve_crp                                0       14578\n",
      "nbre_sin_tot (mat+crp)                     0           0\n",
      "nbre_sin_mat                               0           0\n",
      "nbre_sin_crp                               0       14578\n",
      "MOIS                                       0          78\n",
      "ANNEE                                      0          78\n",
      "AGENCE                                     0          78\n",
      "CODE_PRODUIT                               0          78\n",
      "TEL                                        0       14578\n",
      "CODE_POSTAL_VILLE                         23          79\n",
      "PUISSANCE                                  0          78\n",
      "USAGEE                                     0          78\n",
      "CLASSE_BM                                  0          78\n",
      "COEFFICIENT                              171          92\n",
      "NBR_PLACE                                  0          78\n",
      "CYLINDRE                                3143       11435\n",
      "POID_VIDE                               3314       11264\n",
      "PP_TAC                                  3066       10287\n",
      "CHARGE_UTILE                            3314       11264\n",
      "VALEUR_NEUF                               13         854\n",
      "VALEUR_VENALE                              0          78\n",
      "PRIME_ANNUELLE                             0          78\n"
     ]
    }
   ],
   "source": [
    "count = pd.DataFrame({'zero count':[0]*len(numeric_features),'null count':[0]*len(numeric_features)},index = numeric_features)\n",
    "\n",
    "for element in numeric_features:\n",
    "    count.loc[element,'zero count'] = sum(np.array(df[element])==0)\n",
    "    count.loc[element,'null count'] = df[element].isnull().sum()\n",
    "print(count)"
   ]
  },
  {
   "cell_type": "code",
   "execution_count": 9,
   "metadata": {},
   "outputs": [],
   "source": [
    "df.drop([\"reserve_crp\",\"reglement_crp\",\"reglement_mat\",\"reserve_mat\",\"reserve_tot\",\"nbre_sin_crp\",\"nbre_sin_tot (mat+crp)\",\"TEL\",\n",
    "         \"CYLINDRE\",\"POID_VIDE\",\"PP_TAC\",\"CHARGE_UTILE\",\"MOIS\",\"CODE_POSTAL_VILLE\",\"CLASSE_BM\",\"ANNEE\",\"AGENCE\"], inplace=True, axis=1)\n",
    "for el in [\"reserve_crp\",\"reglement_crp\",\"reglement_mat\",\"reserve_mat\",\"reserve_tot\",\"nbre_sin_crp\",\"TEL\",\"CYLINDRE\",\"POID_VIDE\",\n",
    "           \"nbre_sin_tot (mat+crp)\",\"PP_TAC\",\"CHARGE_UTILE\",\"MOIS\",\"CODE_POSTAL_VILLE\",\"CLASSE_BM\",\"ANNEE\",\"AGENCE\"]:\n",
    "    if el in numeric_features: numeric_features.remove(el)"
   ]
  },
  {
   "cell_type": "code",
   "execution_count": 10,
   "metadata": {},
   "outputs": [],
   "source": [
    "df[\"Prix_Piece\"]= df[\"Prix_Piece\"].replace(np.nan,0 ).copy()"
   ]
  },
  {
   "cell_type": "code",
   "execution_count": 11,
   "metadata": {},
   "outputs": [],
   "source": [
    "df = df[np.isfinite(df['CODE_PRODUIT'])]"
   ]
  },
  {
   "cell_type": "code",
   "execution_count": 12,
   "metadata": {},
   "outputs": [
    {
     "name": "stderr",
     "output_type": "stream",
     "text": [
      "C:\\Users\\Lilia\\Anaconda3\\lib\\site-packages\\sklearn\\utils\\deprecation.py:58: DeprecationWarning: Class Imputer is deprecated; Imputer was deprecated in version 0.20 and will be removed in 0.22. Import impute.SimpleImputer from sklearn instead.\n",
      "  warnings.warn(msg, category=DeprecationWarning)\n"
     ]
    }
   ],
   "source": [
    "imputer = Imputer(missing_values=np.nan ,strategy='most_frequent',axis =0)\n",
    "imputer = imputer.fit(df[['PUISSANCE','USAGEE','COEFFICIENT','NBR_PLACE','PRIME_ANNUELLE']])\n",
    "df[['PUISSANCE','USAGEE','COEFFICIENT','NBR_PLACE','PRIME_ANNUELLE']] = imputer.transform(df[['PUISSANCE','USAGEE','COEFFICIENT','NBR_PLACE','PRIME_ANNUELLE']])\n"
   ]
  },
  {
   "cell_type": "code",
   "execution_count": 13,
   "metadata": {
    "scrolled": false
   },
   "outputs": [
    {
     "name": "stdout",
     "output_type": "stream",
     "text": [
      "                                  zero count  null count\n",
      "Prix_Piece                              5364           0\n",
      "TOT reparation( pièce+ main œuvr           0           0\n",
      "Nombre_heure_reparation                    6           0\n",
      "annee_survenance                           0           0\n",
      "reglement_tot                           3293           0\n",
      "nbre_sin_mat                               0           0\n",
      "CODE_PRODUIT                               0           0\n",
      "PUISSANCE                                  0           0\n",
      "USAGEE                                     0           0\n",
      "COEFFICIENT                              171           0\n",
      "NBR_PLACE                                  0           0\n",
      "VALEUR_NEUF                               13         776\n",
      "VALEUR_VENALE                              0           0\n",
      "PRIME_ANNUELLE                             0           0\n"
     ]
    }
   ],
   "source": [
    "count = pd.DataFrame({'zero count':[0]*len(numeric_features),'null count':[0]*len(numeric_features)},index = numeric_features)\n",
    "\n",
    "for element in numeric_features:\n",
    "    count.loc[element,'zero count'] = sum(np.array(df[element])==0)\n",
    "    count.loc[element,'null count'] = df[element].isnull().sum()\n",
    "print(count)"
   ]
  },
  {
   "cell_type": "markdown",
   "metadata": {},
   "source": [
    "#### Supression des valeurs nulles et non significatives pour text_features"
   ]
  },
  {
   "cell_type": "code",
   "execution_count": 14,
   "metadata": {
    "scrolled": true
   },
   "outputs": [
    {
     "data": {
      "text/plain": [
       "Date_entree_RGA             0\n",
       "Immatriculation             0\n",
       "VIN                         0\n",
       "Marque                      0\n",
       "Modele                      0\n",
       "DMC                         0\n",
       "Piece                       0\n",
       "Statut                      0\n",
       "Date_Reception_devis        0\n",
       "TYPE_SINISTRE               0\n",
       "NUM_POLICE                  0\n",
       "PRODUIT                     0\n",
       "TYPE_PACK                4543\n",
       "TYPE_POLICE                 0\n",
       "DATE_EFFET_POLICE           0\n",
       "DATE_EFFET                  0\n",
       "DATE_ECHEANCE               0\n",
       "TACITE_RECONDUCTION         0\n",
       "FRACTIONNEMENT            502\n",
       "ETAT_POLICE                 0\n",
       "DATE_RESILIATION        10071\n",
       "TYPE_CLIENT                 0\n",
       "SOUS_TYPE_CLIENT           13\n",
       "TYPE_IDENTIFIANT            0\n",
       "SEXE                     2207\n",
       "ETAT_CIVILE              2642\n",
       "PROFESSION               2207\n",
       "SECTEUR_ACTIVITE        12293\n",
       "VIP                     12590\n",
       "SITUATION_ASSURE            0\n",
       "DATE_NAISSANCE           2207\n",
       "ADRESSE                   155\n",
       "GOUVERNORAT               810\n",
       "VILLE                     795\n",
       "NUM_PERMIS_SOUSC          992\n",
       "DATE_OBTENT_PERMIS        982\n",
       "ENERGIE                     0\n",
       "TYPE_IMMATRICULATION       26\n",
       "DATE_M_CIRC                 0\n",
       "CONVENTION              12658\n",
       "Nom_agence                  0\n",
       "USAGE_DU_VEHICULE           0\n",
       "type_dossier_afin           0\n",
       "dtype: int64"
      ]
     },
     "execution_count": 14,
     "metadata": {},
     "output_type": "execute_result"
    }
   ],
   "source": [
    "df[text_features].isnull().sum() "
   ]
  },
  {
   "cell_type": "code",
   "execution_count": 15,
   "metadata": {},
   "outputs": [],
   "source": [
    "df.drop([\"Date_entree_RGA\",\"DATE_RESILIATION\",\"Immatriculation\",\"VIN\",\"Modele\",\"DMC\",\"Date_Reception_devis\",\"NUM_POLICE\", \"TYPE_PACK\",\n",
    "         \"DATE_RESILIATION\",\"SECTEUR_ACTIVITE\",\"VIP\",\"CONVENTION\",\"PROFESSION\",\"SITUATION_ASSURE\",\"DATE_NAISSANCE\",\"ADRESSE\",\n",
    "         \"GOUVERNORAT\",\"VILLE\",\"NUM_PERMIS_SOUSC\",\"PROFESSION\",\"TYPE_IMMATRICULATION\",\"DATE_M_CIRC\",\"USAGE_DU_VEHICULE\",\"TYPE_IDENTIFIANT\",\n",
    "        \"FRACTIONNEMENT\",\"DATE_EFFET_POLICE\",\"DATE_EFFET\",\"DATE_ECHEANCE\",\"DATE_OBTENT_PERMIS\",\"SEXE\",\"ETAT_CIVILE\",\"Nom_agence\"], \n",
    "        inplace=True, axis=1)\n",
    "for el in [\"Date_entree_RGA\",\"DATE_RESILIATION\",\"Immatriculation\",\"VIN\",\"Modele\",\"DMC\",\"Date_Reception_devis\",\"NUM_POLICE\", \"TYPE_PACK\",\n",
    "         \"DATE_RESILIATION\",\"SECTEUR_ACTIVITE\",\"VIP\",\"CONVENTION\",\"PROFESSION\",\"SITUATION_ASSURE\",\"DATE_NAISSANCE\",\"ADRESSE\",\n",
    "         \"GOUVERNORAT\",\"VILLE\",\"NUM_PERMIS_SOUSC\",\"PROFESSION\",\"TYPE_IMMATRICULATION\",\"DATE_M_CIRC\",\"USAGE_DU_VEHICULE\",\"TYPE_IDENTIFIANT\",\n",
    "          \"FRACTIONNEMENT\",\"DATE_EFFET_POLICE\",\"DATE_EFFET\",\"DATE_ECHEANCE\",\"DATE_OBTENT_PERMIS\",\"SEXE\",\"ETAT_CIVILE\",\"Nom_agence\"]:\n",
    "    if el in text_features: text_features.remove(el)\n"
   ]
  },
  {
   "cell_type": "code",
   "execution_count": 16,
   "metadata": {},
   "outputs": [],
   "source": [
    "df = df.dropna()"
   ]
  },
  {
   "cell_type": "markdown",
   "metadata": {},
   "source": [
    "#### Data preparation pour numeric_features"
   ]
  },
  {
   "cell_type": "code",
   "execution_count": 17,
   "metadata": {
    "scrolled": true
   },
   "outputs": [
    {
     "name": "stderr",
     "output_type": "stream",
     "text": [
      "C:\\Users\\Lilia\\Anaconda3\\lib\\site-packages\\sklearn\\preprocessing\\data.py:645: DataConversionWarning: Data with input dtype int64, float64 were all converted to float64 by StandardScaler.\n",
      "  return self.partial_fit(X, y)\n",
      "C:\\Users\\Lilia\\Anaconda3\\lib\\site-packages\\sklearn\\base.py:464: DataConversionWarning: Data with input dtype int64, float64 were all converted to float64 by StandardScaler.\n",
      "  return self.fit(X, **fit_params).transform(X)\n"
     ]
    }
   ],
   "source": [
    "scl=StandardScaler()\n",
    "df[numeric_features]=scl.fit_transform(df[numeric_features])"
   ]
  },
  {
   "cell_type": "code",
   "execution_count": 18,
   "metadata": {
    "scrolled": true
   },
   "outputs": [
    {
     "data": {
      "text/plain": [
       "numero_sinistre                     0\n",
       "Marque                              0\n",
       "Piece                               0\n",
       "Statut                              0\n",
       "Prix_Piece                          0\n",
       "TOT reparation( pièce+ main œuvr    0\n",
       "Nombre_heure_reparation             0\n",
       "TYPE_SINISTRE                       0\n",
       "annee_survenance                    0\n",
       "reglement_tot                       0\n",
       "nbre_sin_mat                        0\n",
       "CODE_PRODUIT                        0\n",
       "PRODUIT                             0\n",
       "TYPE_POLICE                         0\n",
       "TACITE_RECONDUCTION                 0\n",
       "ETAT_POLICE                         0\n",
       "TYPE_CLIENT                         0\n",
       "SOUS_TYPE_CLIENT                    0\n",
       "PUISSANCE                           0\n",
       "ENERGIE                             0\n",
       "USAGEE                              0\n",
       "COEFFICIENT                         0\n",
       "NBR_PLACE                           0\n",
       "VALEUR_NEUF                         0\n",
       "VALEUR_VENALE                       0\n",
       "PRIME_ANNUELLE                      0\n",
       "flag_Fraude                         0\n",
       "type_dossier_afin                   0\n",
       "dtype: int64"
      ]
     },
     "execution_count": 18,
     "metadata": {},
     "output_type": "execute_result"
    }
   ],
   "source": [
    "df.isnull().sum() "
   ]
  },
  {
   "cell_type": "code",
   "execution_count": 19,
   "metadata": {
    "scrolled": true
   },
   "outputs": [],
   "source": [
    "df['flag_Fraude'] = df['flag_Fraude'].str.upper()"
   ]
  },
  {
   "cell_type": "code",
   "execution_count": 20,
   "metadata": {},
   "outputs": [],
   "source": [
    "df['Fraude'] = (df.flag_Fraude.isin (['FRAUDE'])).astype(int)"
   ]
  },
  {
   "cell_type": "code",
   "execution_count": 21,
   "metadata": {},
   "outputs": [
    {
     "data": {
      "text/plain": [
       "array([0, 1], dtype=int64)"
      ]
     },
     "execution_count": 21,
     "metadata": {},
     "output_type": "execute_result"
    }
   ],
   "source": [
    "df.Fraude.unique()"
   ]
  },
  {
   "cell_type": "code",
   "execution_count": 22,
   "metadata": {},
   "outputs": [],
   "source": [
    "df.drop([\"flag_Fraude\"], inplace=True, axis=1)\n",
    "if \"flag_Fraude\" in text_features: text_features.remove(\"flag_Fraude\")"
   ]
  },
  {
   "cell_type": "markdown",
   "metadata": {},
   "source": [
    "#### On sépare les données"
   ]
  },
  {
   "cell_type": "code",
   "execution_count": 23,
   "metadata": {},
   "outputs": [],
   "source": [
    "x_train, x_test, y_train, y_test = train_test_split(df.loc[:,df.columns.values], df['Fraude'],test_size=0.25, random_state=0)"
   ]
  },
  {
   "cell_type": "markdown",
   "metadata": {},
   "source": [
    "#### Data cleaning pour categorical_features"
   ]
  },
  {
   "cell_type": "code",
   "execution_count": 24,
   "metadata": {},
   "outputs": [],
   "source": [
    "columns = df[categorical_features]"
   ]
  },
  {
   "cell_type": "code",
   "execution_count": 25,
   "metadata": {},
   "outputs": [
    {
     "name": "stdout",
     "output_type": "stream",
     "text": [
      "['numero_sinistre' 'Marque' 'Piece' ...\n",
      " 'type_dossier_afin_Recours RC etranger'\n",
      " 'type_dossier_afin_Recours connexe' 'type_dossier_afin_nan']\n"
     ]
    }
   ],
   "source": [
    "for feat in categorical_features:\n",
    "    x_train=pd.concat([x_train, pd.get_dummies(x_train[feat], prefix=feat, dummy_na=True)],axis=1)\n",
    "    x_test=pd.concat([x_test, pd.get_dummies(x_test[feat], prefix=feat, dummy_na=True)],axis=1)\n",
    "print(x_train.columns.values)"
   ]
  },
  {
   "cell_type": "code",
   "execution_count": 26,
   "metadata": {},
   "outputs": [],
   "source": [
    "cat_dummies=[]\n",
    "cat_dummies=[i for i in x_train.columns.values.tolist() if i not in numeric_features]\n",
    "cat_dummies=[i for i in cat_dummies if i not in text_features]\n",
    "cat_dummies.remove(\"Fraude\")\n",
    "cat_dummies.remove(\"numero_sinistre\")"
   ]
  },
  {
   "cell_type": "code",
   "execution_count": 27,
   "metadata": {},
   "outputs": [
    {
     "name": "stderr",
     "output_type": "stream",
     "text": [
      "C:\\Users\\Lilia\\Anaconda3\\lib\\site-packages\\scipy\\stats\\stats.py:3038: RuntimeWarning: invalid value encountered in double_scalars\n",
      "  r = r_num / r_den\n"
     ]
    },
    {
     "name": "stdout",
     "output_type": "stream",
     "text": [
      "[('Marque_KIA', (0.08997448053283613, 6.170075867784805e-20)), ('Piece_poignee porte AV', (0.06517190129349035, 3.715656503129416e-11)), ('Piece_Airbag latéral G', (0.057283938478019145, 6.138055978057373e-09)), ('Piece_Arrettoire  de porte', (0.057283938478019145, 6.138055978057373e-09)), ('Piece_Enjoliveur aile Av D', (0.05728393847801914, 6.138055978057373e-09)), ('Piece_traverse sous pare chocs AR', (0.057283938478019124, 6.138055978057373e-09)), ('Piece_Appareil leve vitre Ar D', (0.05728393847801912, 6.138055978057373e-09)), ('Piece_Ingridient de Peinture', (0.05728393847801912, 6.138055978057373e-09)), ('Piece_Moulure pare chocs AR', (0.05728393847801912, 6.138055978057373e-09)), ('Marque_FORD', (0.054913511961879685, 2.5177487210839058e-08)), ('Marque_VOLKSWAGEN', (0.045092054315790754, 4.777319297973076e-06)), ('Marque_BMW', (0.04376556101169228, 9.010950026876515e-06)), ('Piece_Enjoliveur aile AVG', (0.03930723866572009, 6.691070994631702e-05)), ('Piece_Amortisseurs AV', (0.03930723866572008, 6.691070994631702e-05)), ('Piece_Bras AVD', (0.03111545953106727, 0.001601422123419098))]\n",
      "\n",
      "[(\"Piece_Radiateur d'eau\", (-0.01239163031759625, 0.2089454937240877)), ('type_dossier_afin_Défense connexe', (-0.01250859758998679, 0.20467964386188045)), ('type_dossier_afin_Recours connexe', (-0.012853247319701453, 0.19247899103607866)), ('PRODUIT_Flotte', (-0.019480621741109223, 0.04822478788407286)), ('TYPE_POLICE_FLOTTE', (-0.019480621741109223, 0.04822478788407286)), ('type_dossier_afin_Défense Hors IDA', (-0.019930993824788874, 0.0432735522144186)), ('type_dossier_afin_Défense IDA', (-0.021571314034689138, 0.028711115763820932)), ('ENERGIE_GASOIL', (-0.02748510240459666, 0.0053146292434839825)), ('TACITE_RECONDUCTION_FERME', (-0.02922356369274611, 0.003039724748515285)), ('type_dossier_afin_Recours Hors IDA', (-0.03548205872003081, 0.000319740033712267)), ('type_dossier_afin_Recours IDA', (-0.045016275309896304, 4.956013649155977e-06)), ('SOUS_TYPE_CLIENT_Société', (-0.04638326036686187, 2.5329277684460555e-06)), ('TYPE_CLIENT_Personne morale', (-0.04652069668501872, 2.3651946885503275e-06)), ('PRODUIT_Trik Esslama', (-0.0535711632136121, 5.460209762418914e-08)), ('type_dossier_afin_nan', (nan, 1.0))]\n"
     ]
    }
   ],
   "source": [
    "correl={}\n",
    "for f in cat_dummies:\n",
    "    correl[f]=pearsonr(x_train[f], y_train)\n",
    "sorted_cor = sorted(correl.items(), key=operator.itemgetter(1), reverse=True)\n",
    "\n",
    "print (sorted_cor[0:15])\n",
    "print(\"\")\n",
    "print (sorted_cor[-15:])"
   ]
  },
  {
   "cell_type": "code",
   "execution_count": 28,
   "metadata": {},
   "outputs": [],
   "source": [
    "corFeat = ['Marque_KIA', 'Piece_poignee porte AV', 'Piece_Airbag latéral G', 'Piece_Arrettoire  de porte',\n",
    " 'Piece_Enjoliveur aile Av D', 'Piece_traverse sous pare chocs AR', 'Piece_Appareil leve vitre Ar D',\n",
    " 'Piece_Ingridient de Peinture', 'Piece_Moulure pare chocs AR', 'Marque_FORD', 'Marque_VOLKSWAGEN', 'Marque_BMW', 'Marque_CITROEN',\n",
    " 'Marque_PEUGEOT', 'Statut_Réparée', 'Statut_Remplacée', 'PRODUIT_Individuel à la carte', 'type_dossier_afin_Autres dommages',\n",
    " 'Piece_feu de stop', 'Piece_feu de jour', 'Piece_lave phare G', 'Piece_montant pavillon DR', 'Piece_catadioptre D',\n",
    " 'Piece_porte reservoir', 'Piece_Porte ARD', 'TYPE_CLIENT_Personne physique', 'SOUS_TYPE_CLIENT_Particulier', 'type_dossier_afin_Recours IDA',\n",
    " 'SOUS_TYPE_CLIENT_Société', 'TYPE_CLIENT_Personne morale', 'PRODUIT_Trik Esslama']"
   ]
  },
  {
   "cell_type": "markdown",
   "metadata": {},
   "source": [
    "#### Data reduction pour numeric_features"
   ]
  },
  {
   "cell_type": "code",
   "execution_count": 29,
   "metadata": {},
   "outputs": [
    {
     "name": "stdout",
     "output_type": "stream",
     "text": [
      "[('nbre_sin_mat', (0.24282531919526, 6.799719517323146e-138)), ('VALEUR_VENALE', (0.0735284152133901, 8.307330322740539e-14)), ('VALEUR_NEUF', (0.066492140775804, 1.4856619908157737e-11)), ('NBR_PLACE', (0.05496298605531896, 2.4460793162376302e-08)), ('PRIME_ANNUELLE', (0.04177145304880902, 2.2635084392388937e-05)), ('annee_survenance', (0.0314463198576959, 0.0014265770629116764)), ('PUISSANCE', (0.019315822088483998, 0.05015167869911417)), ('Prix_Piece', (-0.0022023038873319, 0.8233035606637007)), ('COEFFICIENT', (-0.01898260038878286, 0.05424531890267338)), ('CODE_PRODUIT', (-0.028170424512925632, 0.004278745248017205)), ('reglement_tot', (-0.0397859228145283, 5.446203176796117e-05)), ('Nombre_heure_reparation', (-0.04576557647246187, 3.438313634906773e-06)), ('TOT reparation( pièce+ main œuvr', (-0.07505913870945412, 2.5131202397674798e-14)), ('USAGEE', (-0.07615241463081175, 1.0542473127884379e-14))]\n"
     ]
    }
   ],
   "source": [
    "correl={}\n",
    "for f in numeric_features:\n",
    "    correl[f]=pearsonr(x_train[f], y_train)\n",
    "sorted_cor = sorted(correl.items(), key=operator.itemgetter(1), reverse=True)\n",
    "print (sorted_cor)"
   ]
  },
  {
   "cell_type": "code",
   "execution_count": 30,
   "metadata": {},
   "outputs": [],
   "source": [
    "def corrmap(features, title):\n",
    "    sns.set(context=\"paper\", font=\"monospace\")\n",
    "    corrmat = x_train[features].corr()\n",
    "    f, ax = plt.subplots(figsize=(12, 9))\n",
    "    plt.title(title)\n",
    "    sns.heatmap(corrmat, vmax=.8, square=True)\n",
    "    "
   ]
  },
  {
   "cell_type": "code",
   "execution_count": 31,
   "metadata": {},
   "outputs": [
    {
     "data": {
      "image/png": "[encoded data removed]",
      "text/plain": [
       "<Figure size 864x648 with 2 Axes>"
      ]
     },
     "metadata": {},
     "output_type": "display_data"
    }
   ],
   "source": [
    "corrmap(numeric_features,\"Correlation matrix for numeric features\")"
   ]
  },
  {
   "cell_type": "code",
   "execution_count": 32,
   "metadata": {},
   "outputs": [],
   "source": [
    "cor = []\n",
    "for f in sorted_cor:\n",
    "    if (abs(f[1][0])>0.04):\n",
    "        cor.append(f[0])"
   ]
  },
  {
   "cell_type": "code",
   "execution_count": 33,
   "metadata": {},
   "outputs": [],
   "source": [
    "for i in numeric_features:\n",
    "    if i not in cor:\n",
    "        numeric_features.remove(i)"
   ]
  },
  {
   "cell_type": "code",
   "execution_count": 34,
   "metadata": {},
   "outputs": [
    {
     "data": {
      "image/png": "[encoded data removed]",
      "text/plain": [
       "<Figure size 864x648 with 2 Axes>"
      ]
     },
     "metadata": {},
     "output_type": "display_data"
    }
   ],
   "source": [
    "corrmap(numeric_features,\"Correlation matrix for numeric features\")"
   ]
  },
  {
   "cell_type": "code",
   "execution_count": 35,
   "metadata": {},
   "outputs": [],
   "source": [
    "df.drop([\"VALEUR_NEUF\",\"VALEUR_VENALE\",\"PRIME_ANNUELLE\",\"USAGEE\"],inplace=True, axis=1)\n",
    "for el in [\"VALEUR_NEUF\",\"VALEUR_VENALE\",\"PRIME_ANNUELLE\",\"USAGEE\"]:\n",
    "    if el in numeric_features: numeric_features.remove(el)"
   ]
  },
  {
   "cell_type": "code",
   "execution_count": 36,
   "metadata": {},
   "outputs": [
    {
     "data": {
      "image/png": "[encoded data removed]",
      "text/plain": [
       "<Figure size 864x648 with 2 Axes>"
      ]
     },
     "metadata": {},
     "output_type": "display_data"
    }
   ],
   "source": [
    "corrmap(numeric_features,\"Correlation matrix for numeric features\")"
   ]
  },
  {
   "cell_type": "code",
   "execution_count": 37,
   "metadata": {},
   "outputs": [],
   "source": [
    "df.drop([\"Nombre_heure_reparation\",\"reglement_tot\"],inplace=True, axis=1)\n",
    "for el in [\"Nombre_heure_reparation\",\"reglement_tot\"]:\n",
    "    if el in numeric_features: numeric_features.remove(el)"
   ]
  },
  {
   "cell_type": "code",
   "execution_count": 38,
   "metadata": {},
   "outputs": [
    {
     "data": {
      "image/png": "[encoded data removed]",
      "text/plain": [
       "<Figure size 864x648 with 2 Axes>"
      ]
     },
     "metadata": {},
     "output_type": "display_data"
    }
   ],
   "source": [
    "corrmap(numeric_features,\"Correlation matrix for numeric and non correlated features\")"
   ]
  },
  {
   "cell_type": "code",
   "execution_count": 39,
   "metadata": {},
   "outputs": [
    {
     "data": {
      "text/plain": [
       "['TOT reparation( pièce+ main œuvr', 'nbre_sin_mat', 'PUISSANCE', 'NBR_PLACE']"
      ]
     },
     "execution_count": 39,
     "metadata": {},
     "output_type": "execute_result"
    }
   ],
   "source": [
    "numeric_features "
   ]
  },
  {
   "cell_type": "code",
   "execution_count": 40,
   "metadata": {},
   "outputs": [],
   "source": [
    "for el in numeric_features:\n",
    "    corFeat.append(el)"
   ]
  },
  {
   "cell_type": "code",
   "execution_count": 41,
   "metadata": {
    "scrolled": true
   },
   "outputs": [
    {
     "data": {
      "text/plain": [
       "['Marque_KIA',\n",
       " 'Piece_poignee porte AV',\n",
       " 'Piece_Airbag latéral G',\n",
       " 'Piece_Arrettoire  de porte',\n",
       " 'Piece_Enjoliveur aile Av D',\n",
       " 'Piece_traverse sous pare chocs AR',\n",
       " 'Piece_Appareil leve vitre Ar D',\n",
       " 'Piece_Ingridient de Peinture',\n",
       " 'Piece_Moulure pare chocs AR',\n",
       " 'Marque_FORD',\n",
       " 'Marque_VOLKSWAGEN',\n",
       " 'Marque_BMW',\n",
       " 'Marque_CITROEN',\n",
       " 'Marque_PEUGEOT',\n",
       " 'Statut_Réparée',\n",
       " 'Statut_Remplacée',\n",
       " 'PRODUIT_Individuel à la carte',\n",
       " 'type_dossier_afin_Autres dommages',\n",
       " 'Piece_feu de stop',\n",
       " 'Piece_feu de jour',\n",
       " 'Piece_lave phare G',\n",
       " 'Piece_montant pavillon DR',\n",
       " 'Piece_catadioptre D',\n",
       " 'Piece_porte reservoir',\n",
       " 'Piece_Porte ARD',\n",
       " 'TYPE_CLIENT_Personne physique',\n",
       " 'SOUS_TYPE_CLIENT_Particulier',\n",
       " 'type_dossier_afin_Recours IDA',\n",
       " 'SOUS_TYPE_CLIENT_Société',\n",
       " 'TYPE_CLIENT_Personne morale',\n",
       " 'PRODUIT_Trik Esslama',\n",
       " 'TOT reparation( pièce+ main œuvr',\n",
       " 'nbre_sin_mat',\n",
       " 'PUISSANCE',\n",
       " 'NBR_PLACE']"
      ]
     },
     "execution_count": 41,
     "metadata": {},
     "output_type": "execute_result"
    }
   ],
   "source": [
    "corFeat"
   ]
  },
  {
   "cell_type": "code",
   "execution_count": 42,
   "metadata": {},
   "outputs": [],
   "source": [
    "x_train = x_train[corFeat]"
   ]
  },
  {
   "cell_type": "code",
   "execution_count": 43,
   "metadata": {},
   "outputs": [],
   "source": [
    "col=[]\n",
    "col=[i for i in corFeat if i not in x_test.columns.values.tolist()]\n",
    "for el in col:\n",
    "    x_test[el] = 0\n",
    "x_test = x_test[corFeat]"
   ]
  },
  {
   "cell_type": "markdown",
   "metadata": {},
   "source": [
    "### oversampling"
   ]
  },
  {
   "cell_type": "code",
   "execution_count": 45,
   "metadata": {
    "scrolled": true
   },
   "outputs": [
    {
     "name": "stderr",
     "output_type": "stream",
     "text": [
      "Using TensorFlow backend.\n"
     ]
    },
    {
     "name": "stdout",
     "output_type": "stream",
     "text": [
      "length of oversampled data is  19974\n",
      "Number of non fraudulent in oversampled data 9987\n",
      "Number of fraudulent 9987\n",
      "Proportion of non fraudulent data in oversampled data is  0.5\n",
      "Proportion of fraudulent data in oversampled data is  0.5\n"
     ]
    }
   ],
   "source": [
    "from imblearn.over_sampling import SMOTE\n",
    "os = SMOTE(random_state=0)\n",
    "columns = x_train.columns\n",
    "os_data_X,os_data_y=os.fit_sample(x_train, y_train)\n",
    "os_data_X = pd.DataFrame(data=os_data_X,columns=columns )\n",
    "os_data_y= pd.DataFrame(data=os_data_y,columns=['Fraude'])\n",
    "# we can Check the numbers of our data\n",
    "print(\"length of oversampled data is \",len(os_data_X))\n",
    "print(\"Number of non fraudulent in oversampled data\",len(os_data_y[os_data_y['Fraude']==0]))\n",
    "print(\"Number of fraudulent\",len(os_data_y[os_data_y['Fraude']==1]))\n",
    "print(\"Proportion of non fraudulent data in oversampled data is \",len(os_data_y[os_data_y['Fraude']==0])/len(os_data_X))\n",
    "print(\"Proportion of fraudulent data in oversampled data is \",len(os_data_y[os_data_y['Fraude']==1])/len(os_data_X))"
   ]
  },
  {
   "cell_type": "code",
   "execution_count": 46,
   "metadata": {
    "scrolled": true
   },
   "outputs": [
    {
     "data": {
      "text/plain": [
       "<matplotlib.axes._subplots.AxesSubplot at 0x1db9fa7bc88>"
      ]
     },
     "execution_count": 46,
     "metadata": {},
     "output_type": "execute_result"
    },
    {
     "data": {
      "image/png": "[encoded data removed]",
      "text/plain": [
       "<Figure size 432x288 with 1 Axes>"
      ]
     },
     "metadata": {},
     "output_type": "display_data"
    }
   ],
   "source": [
    "fig, ax = plt.subplots()\n",
    "os_data_y['Fraude'].value_counts().plot(ax=ax, kind='bar',title=\"Fraude\")"
   ]
  },
  {
   "cell_type": "code",
   "execution_count": 47,
   "metadata": {},
   "outputs": [],
   "source": [
    "y_train1 = os_data_y['Fraude']\n",
    "x_train1 = os_data_X"
   ]
  },
  {
   "cell_type": "markdown",
   "metadata": {},
   "source": [
    "#### LogisticRegression"
   ]
  },
  {
   "cell_type": "code",
   "execution_count": 79,
   "metadata": {},
   "outputs": [
    {
     "name": "stderr",
     "output_type": "stream",
     "text": [
      "C:\\Users\\Lilia\\Anaconda3\\lib\\site-packages\\ipykernel_launcher.py:1: FutureWarning: Method .as_matrix will be removed in a future version. Use .values instead.\n",
      "  \"\"\"Entry point for launching an IPython kernel.\n",
      "C:\\Users\\Lilia\\Anaconda3\\lib\\site-packages\\ipykernel_launcher.py:2: FutureWarning: Method .as_matrix will be removed in a future version. Use .values instead.\n",
      "  \n"
     ]
    }
   ],
   "source": [
    "data_train_lr = x_train1.as_matrix()\n",
    "data_test_lr = x_test.as_matrix()"
   ]
  },
  {
   "cell_type": "code",
   "execution_count": 80,
   "metadata": {},
   "outputs": [
    {
     "name": "stderr",
     "output_type": "stream",
     "text": [
      "C:\\Users\\Lilia\\Anaconda3\\lib\\site-packages\\sklearn\\linear_model\\logistic.py:433: FutureWarning: Default solver will be changed to 'lbfgs' in 0.22. Specify a solver to silence this warning.\n",
      "  FutureWarning)\n"
     ]
    },
    {
     "data": {
      "text/plain": [
       "LogisticRegression(C=1.0, class_weight=None, dual=False, fit_intercept=True,\n",
       "          intercept_scaling=1, max_iter=100, multi_class='warn',\n",
       "          n_jobs=None, penalty='l2', random_state=None, solver='warn',\n",
       "          tol=0.0001, verbose=0, warm_start=False)"
      ]
     },
     "execution_count": 80,
     "metadata": {},
     "output_type": "execute_result"
    }
   ],
   "source": [
    "model_lr = lm.LogisticRegression()\n",
    "model_lr.fit(data_train_lr, y_train1)"
   ]
  },
  {
   "cell_type": "code",
   "execution_count": 81,
   "metadata": {},
   "outputs": [],
   "source": [
    "#Predict target for the test set\n",
    "pred_model_lr = model_lr.predict(data_test_lr)\n",
    "\n",
    "#generate class probabilities\n",
    "pred_probs_model_lr = model_lr.predict_proba(data_test_lr)"
   ]
  },
  {
   "cell_type": "code",
   "execution_count": 82,
   "metadata": {},
   "outputs": [
    {
     "name": "stdout",
     "output_type": "stream",
     "text": [
      "Accuracy of logistic regression classifier on test set: 0.80\n"
     ]
    }
   ],
   "source": [
    "print('Accuracy of logistic regression classifier on test set: {:.2f}'.format(model_lr.score(x_test, y_test)))"
   ]
  },
  {
   "cell_type": "code",
   "execution_count": 83,
   "metadata": {},
   "outputs": [],
   "source": [
    "from sklearn.metrics import accuracy_score, recall_score, f1_score, precision_score,confusion_matrix"
   ]
  },
  {
   "cell_type": "code",
   "execution_count": 85,
   "metadata": {},
   "outputs": [
    {
     "name": "stdout",
     "output_type": "stream",
     "text": [
      "recall: 72.09%\n",
      "f1_score: 15.21%\n",
      "precision_score: 8.50%\n"
     ]
    }
   ],
   "source": [
    "recall = recall_score(y_test, pred_model_lr)\n",
    "f1 = f1_score(y_test, pred_model_lr)\n",
    "precision = precision_score(y_test, pred_model_lr)\n",
    "\n",
    "print(\"recall: %.2f%%\" % (recall * 100.0))\n",
    "print(\"f1_score: %.2f%%\" % (f1 * 100.0))\n",
    "print(\"precision_score: %.2f%%\" % (precision * 100.0))"
   ]
  },
  {
   "cell_type": "code",
   "execution_count": 86,
   "metadata": {},
   "outputs": [],
   "source": [
    "def confmat(cm):\n",
    "    plt.clf()\n",
    "    plt.imshow(cm, interpolation='nearest', cmap=plt.cm.Wistia)\n",
    "    classNames = ['Negative','Positive']\n",
    "    plt.title('Versicolor or Not Versicolor Confusion Matrix - Test Data')\n",
    "    plt.ylabel('True label')\n",
    "    plt.xlabel('Predicted label')\n",
    "    tick_marks = np.arange(len(classNames))\n",
    "    plt.xticks(tick_marks, classNames, rotation=45)\n",
    "    plt.yticks(tick_marks, classNames)\n",
    "    s = [['TN','FP'], ['FN', 'TP']]\n",
    "    for i in range(2):\n",
    "        for j in range(2):\n",
    "            plt.text(j,i, str(s[i][j])+\" = \"+str(cm[i][j]))\n",
    "    plt.show()"
   ]
  },
  {
   "cell_type": "code",
   "execution_count": 87,
   "metadata": {
    "scrolled": true
   },
   "outputs": [
    {
     "data": {
      "image/png": "[encoded data removed]",
      "text/plain": [
       "<Figure size 432x288 with 1 Axes>"
      ]
     },
     "metadata": {},
     "output_type": "display_data"
    }
   ],
   "source": [
    "from sklearn.metrics import confusion_matrix\n",
    " \n",
    "cm1 = confusion_matrix(y_test, pred_model_lr)\n",
    "\n",
    "confmat(cm1)"
   ]
  },
  {
   "cell_type": "markdown",
   "metadata": {},
   "source": [
    "#### Decision tree"
   ]
  },
  {
   "cell_type": "code",
   "execution_count": 88,
   "metadata": {},
   "outputs": [
    {
     "name": "stderr",
     "output_type": "stream",
     "text": [
      "C:\\Users\\Lilia\\Anaconda3\\lib\\site-packages\\ipykernel_launcher.py:1: FutureWarning: Method .as_matrix will be removed in a future version. Use .values instead.\n",
      "  \"\"\"Entry point for launching an IPython kernel.\n",
      "C:\\Users\\Lilia\\Anaconda3\\lib\\site-packages\\ipykernel_launcher.py:2: FutureWarning: Method .as_matrix will be removed in a future version. Use .values instead.\n",
      "  \n"
     ]
    }
   ],
   "source": [
    "data_train_dt = x_train1.as_matrix()\n",
    "data_test_dt = x_test.as_matrix()"
   ]
  },
  {
   "cell_type": "code",
   "execution_count": 89,
   "metadata": {},
   "outputs": [
    {
     "data": {
      "text/plain": [
       "DecisionTreeClassifier(class_weight=None, criterion='entropy', max_depth=10,\n",
       "            max_features=None, max_leaf_nodes=None,\n",
       "            min_impurity_decrease=0.0, min_impurity_split=None,\n",
       "            min_samples_leaf=1, min_samples_split=2,\n",
       "            min_weight_fraction_leaf=0.0, presort=False, random_state=None,\n",
       "            splitter='best')"
      ]
     },
     "execution_count": 89,
     "metadata": {},
     "output_type": "execute_result"
    }
   ],
   "source": [
    "model_dt = dt(criterion='entropy' , max_depth = 10)\n",
    "model_dt.fit(data_train_dt, y_train1)"
   ]
  },
  {
   "cell_type": "code",
   "execution_count": 90,
   "metadata": {},
   "outputs": [],
   "source": [
    "#Predict target for the test set\n",
    "pred_model_dt = model_dt.predict(data_test_dt)\n",
    "\n",
    "#generate class probabilities\n",
    "pred_probs_model_dt = model_dt.predict_proba(data_test_dt)"
   ]
  },
  {
   "cell_type": "code",
   "execution_count": 91,
   "metadata": {},
   "outputs": [
    {
     "name": "stdout",
     "output_type": "stream",
     "text": [
      "Accuracy of decision tree classifier on test set: 0.86\n"
     ]
    }
   ],
   "source": [
    "accuracy = model_dt.score(x_test, y_test)\n",
    "print('Accuracy of decision tree classifier on test set: {:.2f}'.format(accuracy))"
   ]
  },
  {
   "cell_type": "code",
   "execution_count": 92,
   "metadata": {},
   "outputs": [
    {
     "name": "stdout",
     "output_type": "stream",
     "text": [
      "recall: 89.53%\n",
      "f1_score: 24.21%\n",
      "precision_score: 14.00%\n"
     ]
    }
   ],
   "source": [
    "recall = recall_score(y_test, pred_model_dt)\n",
    "f1 = f1_score(y_test, pred_model_dt)\n",
    "precision = precision_score(y_test, pred_model_dt)\n",
    "\n",
    "print(\"recall: %.2f%%\" % (recall * 100.0))\n",
    "print(\"f1_score: %.2f%%\" % (f1 * 100.0))\n",
    "print(\"precision_score: %.2f%%\" % (precision * 100.0))"
   ]
  },
  {
   "cell_type": "code",
   "execution_count": 93,
   "metadata": {},
   "outputs": [
    {
     "data": {
      "image/png": "[encoded data removed]",
      "text/plain": [
       "<Figure size 432x288 with 1 Axes>"
      ]
     },
     "metadata": {},
     "output_type": "display_data"
    }
   ],
   "source": [
    "cm2 = confusion_matrix(y_test, pred_model_dt)\n",
    "confmat(cm2)"
   ]
  },
  {
   "cell_type": "code",
   "execution_count": 94,
   "metadata": {},
   "outputs": [],
   "source": [
    "pickle_out=open(\"model.pickle\",\"wb\")\n",
    "pickle.dump(model_dt,pickle_out)\n",
    "pickle_out.close()"
   ]
  },
  {
   "cell_type": "code",
   "execution_count": 95,
   "metadata": {},
   "outputs": [],
   "source": [
    "pickle_out=open(\"accuracy.pickle\",\"wb\")\n",
    "pickle.dump(accuracy,pickle_out)\n",
    "pickle_out.close()"
   ]
  }
 ],
 "metadata": {
  "kernelspec": {
   "display_name": "Python 3",
   "language": "python",
   "name": "python3"
  },
  "language_info": {
   "codemirror_mode": {
    "name": "ipython",
    "version": 3
   },
   "file_extension": ".py",
   "mimetype": "text/x-python",
   "name": "python",
   "nbconvert_exporter": "python",
   "pygments_lexer": "ipython3",
   "version": "3.7.3"
  }
 },
 "nbformat": 4,
 "nbformat_minor": 2
}
