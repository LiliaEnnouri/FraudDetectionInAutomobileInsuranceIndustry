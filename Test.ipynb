{
 "cells": [
  {
   "cell_type": "code",
   "execution_count": 23,
   "metadata": {},
   "outputs": [],
   "source": [
    "import numpy as np\n",
    "import pandas as pd\n",
    "import matplotlib.pyplot as plt\n",
    "from sklearn.preprocessing import StandardScaler\n",
    "import pickle"
   ]
  },
  {
   "cell_type": "code",
   "execution_count": 24,
   "metadata": {},
   "outputs": [],
   "source": [
    "criteres=[\"Marque\",\"Piece\", \"Statut\", \"PRODUIT\",\"type_dossier_afin\",\"TYPE_CLIENT\",\"SOUS_TYPE_CLIENT\",\n",
    "          \"TOT reparation( pièce+ main œuvr\",\"nbre_sin_mat\",\"PUISSANCE\",\"NBR_PLACE\"]\n",
    "criteres_finaux = ['Marque_KIA', 'Piece_poignee porte AV', 'Piece_Airbag latéral G', 'Piece_Arrettoire  de porte',\n",
    " 'Piece_Enjoliveur aile Av D', 'Piece_traverse sous pare chocs AR', 'Piece_Appareil leve vitre Ar D', 'Piece_Ingridient de Peinture',\n",
    " 'Piece_Moulure pare chocs AR', 'Marque_FORD', 'Marque_VOLKSWAGEN', 'Marque_BMW', 'Marque_CITROEN', 'Marque_PEUGEOT',\n",
    " 'Statut_Réparée', 'Statut_Remplacée', 'PRODUIT_Individuel à la carte', 'type_dossier_afin_Autres dommages',\n",
    " 'Piece_feu de stop', 'Piece_feu de jour', 'Piece_lave phare G', 'Piece_montant pavillon DR', 'Piece_catadioptre D',\n",
    " 'Piece_porte reservoir', 'Piece_Porte ARD', 'TYPE_CLIENT_Personne physique', 'SOUS_TYPE_CLIENT_Particulier',\n",
    " 'type_dossier_afin_Recours IDA', 'SOUS_TYPE_CLIENT_Société', 'TYPE_CLIENT_Personne morale', 'PRODUIT_Trik Esslama',\n",
    " 'TOT reparation( pièce+ main œuvr', 'nbre_sin_mat', 'PUISSANCE', 'NBR_PLACE']"
   ]
  },
  {
   "cell_type": "code",
   "execution_count": 25,
   "metadata": {},
   "outputs": [],
   "source": [
    "testing = [\"DACIA\",\"Charnière\",\"capot D\",\"Trik_Esslama\",\"Autres_dommages\",\"Personne_physique\",\"Particulier\",7518,2,5,5] "
   ]
  },
  {
   "cell_type": "code",
   "execution_count": 26,
   "metadata": {},
   "outputs": [
    {
     "name": "stdout",
     "output_type": "stream",
     "text": [
      "['DACIA', 'Charnière', 'capot D', 'Trik_Esslama', 'Autres_dommages', 'Personne_physique', 'Particulier', 7518, 2, 5, 5]\n"
     ]
    }
   ],
   "source": [
    "print(testing)"
   ]
  },
  {
   "cell_type": "code",
   "execution_count": 27,
   "metadata": {},
   "outputs": [],
   "source": [
    "numeric_features = ['TOT reparation( pièce+ main œuvr', 'nbre_sin_mat', 'PUISSANCE', 'NBR_PLACE']\n",
    "text_features=[i for i in criteres if i not in numeric_features]"
   ]
  },
  {
   "cell_type": "code",
   "execution_count": 28,
   "metadata": {},
   "outputs": [],
   "source": [
    "test = pd.DataFrame([testing], columns = criteres, index=[\"1\"])"
   ]
  },
  {
   "cell_type": "code",
   "execution_count": 29,
   "metadata": {},
   "outputs": [],
   "source": [
    "scl=StandardScaler()\n"
   ]
  },
  {
   "cell_type": "code",
   "execution_count": 30,
   "metadata": {},
   "outputs": [
    {
     "name": "stderr",
     "output_type": "stream",
     "text": [
      "C:\\Users\\Lilia\\Anaconda3\\lib\\site-packages\\sklearn\\preprocessing\\data.py:645: DataConversionWarning: Data with input dtype int64 were all converted to float64 by StandardScaler.\n",
      "  return self.partial_fit(X, y)\n",
      "C:\\Users\\Lilia\\Anaconda3\\lib\\site-packages\\sklearn\\base.py:464: DataConversionWarning: Data with input dtype int64 were all converted to float64 by StandardScaler.\n",
      "  return self.fit(X, **fit_params).transform(X)\n"
     ]
    }
   ],
   "source": [
    "test[numeric_features]=scl.fit_transform(test[numeric_features])"
   ]
  },
  {
   "cell_type": "code",
   "execution_count": 32,
   "metadata": {},
   "outputs": [
    {
     "name": "stdout",
     "output_type": "stream",
     "text": [
      "['Marque' 'Piece' 'Statut' 'PRODUIT' 'type_dossier_afin' 'TYPE_CLIENT'\n",
      " 'SOUS_TYPE_CLIENT' 'TOT reparation( pièce+ main œuvr' 'nbre_sin_mat'\n",
      " 'PUISSANCE' 'NBR_PLACE' 'Marque_DACIA' 'Marque_nan' 'Piece_Charnière'\n",
      " 'Piece_nan' 'Statut_capot D' 'Statut_nan' 'PRODUIT_Trik_Esslama'\n",
      " 'PRODUIT_nan' 'type_dossier_afin_Autres_dommages' 'type_dossier_afin_nan'\n",
      " 'TYPE_CLIENT_Personne_physique' 'TYPE_CLIENT_nan'\n",
      " 'SOUS_TYPE_CLIENT_Particulier' 'SOUS_TYPE_CLIENT_nan']\n"
     ]
    }
   ],
   "source": [
    "for feat in text_features:\n",
    "    test=pd.concat([test, pd.get_dummies(test[feat], prefix=feat, dummy_na=True)],axis=1)\n",
    "print(test.columns.values)"
   ]
  },
  {
   "cell_type": "code",
   "execution_count": 33,
   "metadata": {},
   "outputs": [],
   "source": [
    "corFeat = test.columns.values\n",
    "corFeat=[i for i in corFeat if i not in text_features]\n",
    "test = test[corFeat]"
   ]
  },
  {
   "cell_type": "code",
   "execution_count": 34,
   "metadata": {},
   "outputs": [],
   "source": [
    "col=[]\n",
    "col=[i for i in criteres_finaux if i not in corFeat]\n",
    "for el in col:\n",
    "    test[el] = 0\n",
    "test = test[criteres_finaux]"
   ]
  },
  {
   "cell_type": "code",
   "execution_count": 35,
   "metadata": {},
   "outputs": [
    {
     "data": {
      "text/plain": [
       "['Marque_KIA',\n",
       " 'Piece_poignee porte AV',\n",
       " 'Piece_Airbag latéral G',\n",
       " 'Piece_Arrettoire  de porte',\n",
       " 'Piece_Enjoliveur aile Av D',\n",
       " 'Piece_traverse sous pare chocs AR',\n",
       " 'Piece_Appareil leve vitre Ar D',\n",
       " 'Piece_Ingridient de Peinture',\n",
       " 'Piece_Moulure pare chocs AR',\n",
       " 'Marque_FORD',\n",
       " 'Marque_VOLKSWAGEN',\n",
       " 'Marque_BMW',\n",
       " 'Marque_CITROEN',\n",
       " 'Marque_PEUGEOT',\n",
       " 'Statut_Réparée',\n",
       " 'Statut_Remplacée',\n",
       " 'PRODUIT_Individuel à la carte',\n",
       " 'type_dossier_afin_Autres dommages',\n",
       " 'Piece_feu de stop',\n",
       " 'Piece_feu de jour',\n",
       " 'Piece_lave phare G',\n",
       " 'Piece_montant pavillon DR',\n",
       " 'Piece_catadioptre D',\n",
       " 'Piece_porte reservoir',\n",
       " 'Piece_Porte ARD',\n",
       " 'TYPE_CLIENT_Personne physique',\n",
       " 'SOUS_TYPE_CLIENT_Particulier',\n",
       " 'type_dossier_afin_Recours IDA',\n",
       " 'SOUS_TYPE_CLIENT_Société',\n",
       " 'TYPE_CLIENT_Personne morale',\n",
       " 'PRODUIT_Trik Esslama',\n",
       " 'TOT reparation( pièce+ main œuvr',\n",
       " 'nbre_sin_mat',\n",
       " 'PUISSANCE',\n",
       " 'NBR_PLACE']"
      ]
     },
     "execution_count": 35,
     "metadata": {},
     "output_type": "execute_result"
    }
   ],
   "source": [
    "criteres_finaux"
   ]
  },
  {
   "cell_type": "code",
   "execution_count": 20,
   "metadata": {},
   "outputs": [],
   "source": [
    "pickle_out=open(\"X.pickle\",\"wb\")\n",
    "pickle.dump(test,pickle_out)\n",
    "pickle_out.close()"
   ]
  },
  {
   "cell_type": "code",
   "execution_count": 21,
   "metadata": {},
   "outputs": [],
   "source": [
    "Y=pickle.load(open(\"Y.pickle\",\"rb\"))"
   ]
  },
  {
   "cell_type": "code",
   "execution_count": 22,
   "metadata": {},
   "outputs": [
    {
     "data": {
      "text/plain": [
       "[1, 0.8593932322053676]"
      ]
     },
     "execution_count": 22,
     "metadata": {},
     "output_type": "execute_result"
    }
   ],
   "source": [
    "Y"
   ]
  }
 ],
 "metadata": {
  "kernelspec": {
   "display_name": "Python 3",
   "language": "python",
   "name": "python3"
  },
  "language_info": {
   "codemirror_mode": {
    "name": "ipython",
    "version": 3
   },
   "file_extension": ".py",
   "mimetype": "text/x-python",
   "name": "python",
   "nbconvert_exporter": "python",
   "pygments_lexer": "ipython3",
   "version": "3.7.3"
  }
 },
 "nbformat": 4,
 "nbformat_minor": 2
}
